{
 "cells": [
  {
   "cell_type": "markdown",
   "metadata": {},
   "source": [
    "# Write a program in python to generate MD5 of string data."
   ]
  },
  {
   "cell_type": "code",
   "execution_count": 1,
   "metadata": {},
   "outputs": [],
   "source": [
    "import hashlib"
   ]
  },
  {
   "cell_type": "code",
   "execution_count": 2,
   "metadata": {},
   "outputs": [],
   "source": [
    "data = hashlib.md5(b'Hello,ShapeAI!')"
   ]
  },
  {
   "cell_type": "code",
   "execution_count": 4,
   "metadata": {},
   "outputs": [
    {
     "name": "stdout",
     "output_type": "stream",
     "text": [
      "b0f82da6cd9759ec5403a1129ccf855f\n"
     ]
    }
   ],
   "source": [
    "print(data.hexdigest())"
   ]
  },
  {
   "cell_type": "markdown",
   "metadata": {},
   "source": [
    "# Write a program in python to generate hashes of string data using 3 algorithm from hashlib libraries."
   ]
  },
  {
   "cell_type": "markdown",
   "metadata": {},
   "source": [
    "1"
   ]
  },
  {
   "cell_type": "code",
   "execution_count": 11,
   "metadata": {},
   "outputs": [],
   "source": [
    "import hashlib"
   ]
  },
  {
   "cell_type": "code",
   "execution_count": 12,
   "metadata": {},
   "outputs": [],
   "source": [
    "hash_obj = hashlib.sha1(b'Hello,ShapeAI')"
   ]
  },
  {
   "cell_type": "code",
   "execution_count": 13,
   "metadata": {},
   "outputs": [],
   "source": [
    "hex_dig = hash_obj.hexdigest()"
   ]
  },
  {
   "cell_type": "code",
   "execution_count": 14,
   "metadata": {},
   "outputs": [
    {
     "name": "stdout",
     "output_type": "stream",
     "text": [
      "d8ffaa092212617bda1e55c1f3997869b19954d6\n"
     ]
    }
   ],
   "source": [
    "print(hex_dig)"
   ]
  },
  {
   "cell_type": "markdown",
   "metadata": {},
   "source": [
    "2"
   ]
  },
  {
   "cell_type": "code",
   "execution_count": 15,
   "metadata": {},
   "outputs": [],
   "source": [
    "hash_obj = hashlib.sha256(b'Hello,Harsh')"
   ]
  },
  {
   "cell_type": "code",
   "execution_count": 16,
   "metadata": {},
   "outputs": [],
   "source": [
    "hex_dig = hash_obj.hexdigest()"
   ]
  },
  {
   "cell_type": "code",
   "execution_count": 17,
   "metadata": {},
   "outputs": [
    {
     "name": "stdout",
     "output_type": "stream",
     "text": [
      "253f332d692f3f650f442fcd358345bc175f241e81ed9afd9cd7e4c027a22bd2\n"
     ]
    }
   ],
   "source": [
    "print(hex_dig)"
   ]
  },
  {
   "cell_type": "markdown",
   "metadata": {},
   "source": [
    "3"
   ]
  },
  {
   "cell_type": "code",
   "execution_count": 22,
   "metadata": {},
   "outputs": [],
   "source": [
    "hash_obj = hashlib.sha512(b'Hello,ShapeAI Team')"
   ]
  },
  {
   "cell_type": "code",
   "execution_count": 23,
   "metadata": {},
   "outputs": [],
   "source": [
    "hex_dig = hash_obj.hexdigest()"
   ]
  },
  {
   "cell_type": "code",
   "execution_count": 24,
   "metadata": {},
   "outputs": [
    {
     "name": "stdout",
     "output_type": "stream",
     "text": [
      "fda880f20aa8852bdcde8ba26cb564dd8f256a5f612ecac19a4db0d1209fda20bba9a83fb0bd1426e5eceb3884adbef358f7d2611a3d25fee7cf2b733cc90ba4\n"
     ]
    }
   ],
   "source": [
    "print(hex_dig)"
   ]
  },
  {
   "cell_type": "markdown",
   "metadata": {},
   "source": [
    "\n",
    "# Add salting & iteration to your hashes."
   ]
  },
  {
   "cell_type": "code",
   "execution_count": 27,
   "metadata": {},
   "outputs": [],
   "source": [
    "import hashlib , binascii"
   ]
  },
  {
   "cell_type": "code",
   "execution_count": 32,
   "metadata": {},
   "outputs": [],
   "source": [
    "hash = hashlib.pbkdf2_hmac('sha512' , b'SuperSecretPassword' , b'saltthepassword' , 10000)"
   ]
  },
  {
   "cell_type": "code",
   "execution_count": 34,
   "metadata": {},
   "outputs": [
    {
     "data": {
      "text/plain": [
       "b'6def312e9dbdbae748f642d16898f1554487ad844501d6df00cd530cb479c4f20e90b54e058798946b801f1b9ac15e6ada71d44a1caa449adeceb6b43cf775e8'"
      ]
     },
     "execution_count": 34,
     "metadata": {},
     "output_type": "execute_result"
    }
   ],
   "source": [
    "binascii.hexlify(hash)"
   ]
  },
  {
   "cell_type": "code",
   "execution_count": 35,
   "metadata": {},
   "outputs": [
    {
     "data": {
      "text/plain": [
       "b'm\\xef1.\\x9d\\xbd\\xba\\xe7H\\xf6B\\xd1h\\x98\\xf1UD\\x87\\xad\\x84E\\x01\\xd6\\xdf\\x00\\xcdS\\x0c\\xb4y\\xc4\\xf2\\x0e\\x90\\xb5N\\x05\\x87\\x98\\x94k\\x80\\x1f\\x1b\\x9a\\xc1^j\\xdaq\\xd4J\\x1c\\xaaD\\x9a\\xde\\xce\\xb6\\xb4<\\xf7u\\xe8'"
      ]
     },
     "execution_count": 35,
     "metadata": {},
     "output_type": "execute_result"
    }
   ],
   "source": [
    "hash"
   ]
  },
  {
   "cell_type": "code",
   "execution_count": 36,
   "metadata": {},
   "outputs": [
    {
     "name": "stdout",
     "output_type": "stream",
     "text": [
      "b'm\\xef1.\\x9d\\xbd\\xba\\xe7H\\xf6B\\xd1h\\x98\\xf1UD\\x87\\xad\\x84E\\x01\\xd6\\xdf\\x00\\xcdS\\x0c\\xb4y\\xc4\\xf2\\x0e\\x90\\xb5N\\x05\\x87\\x98\\x94k\\x80\\x1f\\x1b\\x9a\\xc1^j\\xdaq\\xd4J\\x1c\\xaaD\\x9a\\xde\\xce\\xb6\\xb4<\\xf7u\\xe8'\n"
     ]
    }
   ],
   "source": [
    "print(hash)"
   ]
  },
  {
   "cell_type": "code",
   "execution_count": null,
   "metadata": {},
   "outputs": [],
   "source": []
  }
 ],
 "metadata": {
  "kernelspec": {
   "display_name": "Python 3",
   "language": "python",
   "name": "python3"
  },
  "language_info": {
   "codemirror_mode": {
    "name": "ipython",
    "version": 3
   },
   "file_extension": ".py",
   "mimetype": "text/x-python",
   "name": "python",
   "nbconvert_exporter": "python",
   "pygments_lexer": "ipython3",
   "version": "3.7.4"
  }
 },
 "nbformat": 4,
 "nbformat_minor": 2
}
